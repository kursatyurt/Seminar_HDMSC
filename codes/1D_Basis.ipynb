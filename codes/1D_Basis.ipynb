{
 "cells": [
  {
   "cell_type": "code",
   "execution_count": 1,
   "metadata": {},
   "outputs": [],
   "source": [
    "import numpy as np\n",
    "import matplotlib.pyplot as plt\n",
    "import tikzplotlib\n",
    "import matplotlib\n",
    "\n",
    "matplotlib.use(\"pgf\")\n",
    "matplotlib.rcParams.update({\n",
    "    \"pgf.texsystem\": \"pdflatex\",\n",
    "    'font.family': 'serif',\n",
    "    'text.usetex': True,\n",
    "    'pgf.rcfonts': False,\n",
    "})\n"
   ]
  },
  {
   "cell_type": "code",
   "execution_count": 2,
   "metadata": {},
   "outputs": [],
   "source": [
    "def hat_func(x):\n",
    "    if abs(x) <= 1:\n",
    "        return 1 - abs(x)\n",
    "    else:\n",
    "        return 0\n"
   ]
  },
  {
   "cell_type": "code",
   "execution_count": 3,
   "metadata": {},
   "outputs": [],
   "source": [
    "def h(l):\n",
    "    return 2**(-l)\n"
   ]
  },
  {
   "cell_type": "code",
   "execution_count": 4,
   "metadata": {},
   "outputs": [],
   "source": [
    "def phi(x, l, i):\n",
    "    return hat_func(x / h(l) - i)\n"
   ]
  },
  {
   "cell_type": "code",
   "execution_count": 5,
   "metadata": {},
   "outputs": [],
   "source": [
    "def x(l,i):\n",
    "    h_l = h(l)\n",
    "    xl = [i*h_l for i in range(2**l+1)]\n",
    "    #xl.insert(0,0)\n",
    "    #xl.append(1)\n",
    "    return xl\n",
    "    "
   ]
  },
  {
   "cell_type": "code",
   "execution_count": 27,
   "metadata": {},
   "outputs": [],
   "source": [
    "levels = 4\n",
    "\n",
    "for l in range(1,levels+1):    \n",
    "    ax = plt.subplot(levels,1,l)\n",
    "    plt.axis('off')\n",
    "    for i in range(1,2**l):\n",
    "        if i % 2 == 0:\n",
    "            continue\n",
    "        x_l = x(l,i)\n",
    "        y = []\n",
    "        for a in x_l:\n",
    "            z = phi(a, l, i)\n",
    "            y.append(z)\n",
    "        loc = np.argmax(y)\n",
    "        plt.text(x_l[loc] - 0.025, y[loc] + 0.1, f'$\\phi_\\u007b{l},{i}\\u007d$')\n",
    "        ax.plot(x_l, y)\n",
    "plt.tight_layout()       \n",
    "plt.savefig(\"../figures/hierarchical_basis\")       "
   ]
  },
  {
   "cell_type": "code",
   "execution_count": 7,
   "metadata": {},
   "outputs": [],
   "source": [
    "levels = 4\n",
    "\n",
    "l = levels\n",
    "plt.figure(figsize=(6.4, 4.8/levels))\n",
    "plt.axis('off')\n",
    "for i in range(1, 2**l):\n",
    "    x_l = x(l, i)\n",
    "    y = []\n",
    "    for a in x_l:\n",
    "        z = phi(a, l, i)\n",
    "        y.append(z)\n",
    "    loc = np.argmax(y)\n",
    "    plt.text(x_l[loc] - 0.025, y[loc] + 0.1, f'$\\\\phi_\\u007b{l},{i}\\u007d$')\n",
    "    plt.plot(x_l, y)\n",
    "plt.tight_layout()\n",
    "plt.savefig(\"../figures/nodal_basis\")\n"
   ]
  }
 ],
 "metadata": {
  "kernelspec": {
   "display_name": "Python 3.9.13 64-bit",
   "language": "python",
   "name": "python3"
  },
  "language_info": {
   "codemirror_mode": {
    "name": "ipython",
    "version": 3
   },
   "file_extension": ".py",
   "mimetype": "text/x-python",
   "name": "python",
   "nbconvert_exporter": "python",
   "pygments_lexer": "ipython3",
   "version": "3.9.13"
  },
  "orig_nbformat": 4,
  "vscode": {
   "interpreter": {
    "hash": "b0fa6594d8f4cbf19f97940f81e996739fb7646882a419484c72d19e05852a7e"
   }
  }
 },
 "nbformat": 4,
 "nbformat_minor": 2
}
